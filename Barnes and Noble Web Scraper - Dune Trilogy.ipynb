{
 "cells": [
  {
   "cell_type": "code",
   "execution_count": 3,
   "id": "a4791fc9",
   "metadata": {},
   "outputs": [],
   "source": [
    "# import libraries\n",
    "\n",
    "from bs4 import BeautifulSoup\n",
    "import requests\n",
    "import smtplib\n",
    "import time\n",
    "import datetime\n",
    "import csv"
   ]
  },
  {
   "cell_type": "code",
   "execution_count": 5,
   "id": "06066622",
   "metadata": {},
   "outputs": [],
   "source": [
    "# connect to Barnes and Noble\n",
    "\n",
    "URL = 'https://www.barnesandnoble.com/w/frank-herberts-dune-saga-3-book-boxed-set-frank-herbert/1136810577?ean=9780593201893'\n",
    "\n",
    "headers = {\"from my computer\"}\n",
    "\n",
    "page = requests.get(URL, headers=headers) # connecting my computer to the URL\n",
    "\n",
    "# bring in the data\n",
    "\n",
    "soup1 = BeautifulSoup(page.content, \"html.parser\")\n",
    "\n",
    "# prettify (formats in a nice way)\n",
    "soup2 = BeautifulSoup(soup1.prettify(), \"html.parser\")"
   ]
  },
  {
   "cell_type": "code",
   "execution_count": 3,
   "id": "5ab12916",
   "metadata": {},
   "outputs": [
    {
     "name": "stdout",
     "output_type": "stream",
     "text": [
      "Frank Herbert's Dune Saga 3-Book Boxed Set: Dune, Dune Messiah, and Children of Dune\n"
     ]
    }
   ],
   "source": [
    "# finding the title of the book\n",
    "title = soup2.find_all(itemprop=\"name\")[-1].get_text().strip()\n",
    "print(title)"
   ]
  },
  {
   "cell_type": "code",
   "execution_count": 4,
   "id": "e9da236c",
   "metadata": {},
   "outputs": [
    {
     "name": "stdout",
     "output_type": "stream",
     "text": [
      "25.99\n"
     ]
    }
   ],
   "source": [
    "# two different methods to find the price\n",
    "# method 1\n",
    "price1 = float(soup2.find('span', {\"id\": \"pdp-cur-price\"}).get_text().strip()[1:])\n",
    "print(price1)"
   ]
  },
  {
   "cell_type": "code",
   "execution_count": 5,
   "id": "5bd6960f",
   "metadata": {},
   "outputs": [
    {
     "name": "stdout",
     "output_type": "stream",
     "text": [
      "25.99\n"
     ]
    }
   ],
   "source": [
    "# method 2\n",
    "price2 = soup2.find(id=\"pdp-cur-price\").get_text().strip()\n",
    "print(price2[1:])"
   ]
  },
  {
   "cell_type": "code",
   "execution_count": 6,
   "id": "4aeeb347",
   "metadata": {},
   "outputs": [],
   "source": [
    "# when I automate the csv export, I want the date it was exported to be included in the report\n",
    "today = datetime.date.today()"
   ]
  },
  {
   "cell_type": "code",
   "execution_count": 7,
   "id": "73947679",
   "metadata": {},
   "outputs": [],
   "source": [
    "header = ['Book Title', 'Price', 'Date']\n",
    "data = [title, price1, today]\n",
    "\n",
    "with open('DuneWebScraper.csv', 'w', newline='', encoding='UTF8') as f:\n",
    "    writer = csv.writer(f)\n",
    "    writer.writerow(header)\n",
    "    writer.writerow(data)"
   ]
  },
  {
   "cell_type": "code",
   "execution_count": 8,
   "id": "fabacd00",
   "metadata": {},
   "outputs": [
    {
     "name": "stdout",
     "output_type": "stream",
     "text": [
      "                                          Book Title  Price        Date\n",
      "0  Frank Herbert's Dune Saga 3-Book Boxed Set: Du...  25.99  2024-04-01\n"
     ]
    }
   ],
   "source": [
    "import pandas as pd\n",
    "\n",
    "df = pd.read_csv(r\"\\DuneWebScraper.csv\")\n",
    "\n",
    "print(df)"
   ]
  },
  {
   "cell_type": "code",
   "execution_count": 9,
   "id": "409d630a",
   "metadata": {},
   "outputs": [],
   "source": [
    "# append the data\n",
    "\n",
    "with open('DuneWebScraper.csv', 'a+', newline='', encoding='UTF8') as f:\n",
    "    writer = csv.writer(f)\n",
    "    writer.writerow(data)"
   ]
  },
  {
   "cell_type": "code",
   "execution_count": 10,
   "id": "c0bef908",
   "metadata": {},
   "outputs": [],
   "source": [
    "# sending an email to myself when the book is selling for less than $15\n",
    "\n",
    "def send_mail():\n",
    "    server = smtplib.SMTP_SSL('smtp.gmail.com',465)\n",
    "    server.ehlo()\n",
    "    server.ehlo()\n",
    "    server.login('<my email>','<my password>')\n",
    "    \n",
    "    subject = \"Dune 3 Book Set is now less than $15!\"\n",
    "    body = \"Get the Dune 3-Book Set you've been waiting for here: https://www.barnesandnoble.com/w/frank-herberts-dune-saga-3-book-boxed-set-frank-herbert/1136810577?ean=9780593201893\"\n",
    "    \n",
    "    msg = f\"Subject: {subject}\\n\\n{body}\"\n",
    "    \n",
    "    server.sendmail(\n",
    "        '<my email>',\n",
    "        msg\n",
    "     \n",
    "    )"
   ]
  },
  {
   "cell_type": "code",
   "execution_count": 11,
   "id": "e7d74633",
   "metadata": {},
   "outputs": [],
   "source": [
    "# function to run for automating\n",
    "\n",
    "def check_price():\n",
    "    URL = 'https://www.barnesandnoble.com/w/frank-herberts-dune-saga-3-book-boxed-set-frank-herbert/1136810577?ean=9780593201893'\n",
    "\n",
    "    headers = {\"from my computer\"}\n",
    "\n",
    "    page = requests.get(URL, headers=headers) # connecting our computer to the URL\n",
    "\n",
    "    soup1 = BeautifulSoup(page.content, \"html.parser\")\n",
    "\n",
    "    soup2 = BeautifulSoup(soup1.prettify(), \"html.parser\")\n",
    "\n",
    "    title = soup2.find_all(itemprop=\"name\")[-1].get_text().strip()\n",
    "\n",
    "    price1 = float(soup2.find('span', {\"id\": \"pdp-cur-price\"}).get_text().strip()[1:])\n",
    "    \n",
    "    import datetime\n",
    "    \n",
    "    today = datetime.date.today()\n",
    "    \n",
    "    import csv\n",
    "\n",
    "    header = ['Book Title', 'Price', 'Date']\n",
    "    data = [title, price1, today]\n",
    "\n",
    "    with open('DuneWebScraper.csv', 'a+', newline='', encoding='UTF8') as f:\n",
    "        writer = csv.writer(f)\n",
    "        writer.writerow(data)\n",
    "\n",
    "    # send an email if the price falls below $15\n",
    "    \n",
    "    if(price1 < 15):\n",
    "        send_mail()\n"
   ]
  },
  {
   "cell_type": "code",
   "execution_count": null,
   "id": "df0b3d02",
   "metadata": {},
   "outputs": [],
   "source": [
    "while(True):\n",
    "    check_price()\n",
    "    time.sleep(604800) # runs every week (every 604,800 seconds)"
   ]
  }
 ],
 "metadata": {
  "kernelspec": {
   "display_name": "Python 3 (ipykernel)",
   "language": "python",
   "name": "python3"
  },
  "language_info": {
   "codemirror_mode": {
    "name": "ipython",
    "version": 3
   },
   "file_extension": ".py",
   "mimetype": "text/x-python",
   "name": "python",
   "nbconvert_exporter": "python",
   "pygments_lexer": "ipython3",
   "version": "3.11.5"
  }
 },
 "nbformat": 4,
 "nbformat_minor": 5
}
